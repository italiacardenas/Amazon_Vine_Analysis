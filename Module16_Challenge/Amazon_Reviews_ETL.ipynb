{
  "nbformat": 4,
  "nbformat_minor": 0,
  "metadata": {
    "colab": {
      "name": "Amazon_Reviews_ETL.ipynb",
      "provenance": []
    },
    "kernelspec": {
      "display_name": "PythonData",
      "language": "python",
      "name": "pythondata"
    },
    "language_info": {
      "codemirror_mode": {
        "name": "ipython",
        "version": 3
      },
      "file_extension": ".py",
      "mimetype": "text/x-python",
      "name": "python",
      "nbconvert_exporter": "python",
      "pygments_lexer": "ipython3",
      "version": "3.7.7"
    },
    "nteract": {
      "version": "0.12.3"
    }
  },
  "cells": [
    {
      "cell_type": "code",
      "metadata": {
        "id": "V58rxea0HqSa",
        "colab": {
          "base_uri": "https://localhost:8080/"
        },
        "outputId": "65296b4f-7332-4af6-89aa-e0b96e9db6f3"
      },
      "source": [
        "import os\n",
        "# Find the latest version of spark 2.0  from http://www-us.apache.org/dist/spark/ and enter as the spark version\n",
        "# For example:\n",
        "# spark_version = 'spark-3.0.0'\n",
        "spark_version = 'spark-3.1.2'\n",
        "os.environ['SPARK_VERSION']=spark_version\n",
        "\n",
        "# Install Spark and Java\n",
        "!apt-get update\n",
        "!apt-get install openjdk-11-jdk-headless -qq > /dev/null\n",
        "!wget -q http://www-us.apache.org/dist/spark/$SPARK_VERSION/$SPARK_VERSION-bin-hadoop2.7.tgz\n",
        "!tar xf $SPARK_VERSION-bin-hadoop2.7.tgz\n",
        "!pip install -q findspark\n",
        "\n",
        "# Set Environment Variables\n",
        "import os\n",
        "os.environ[\"JAVA_HOME\"] = \"/usr/lib/jvm/java-11-openjdk-amd64\"\n",
        "os.environ[\"SPARK_HOME\"] = f\"/content/{spark_version}-bin-hadoop2.7\"\n",
        "\n",
        "# Start a SparkSession\n",
        "import findspark\n",
        "findspark.init()"
      ],
      "execution_count": 1,
      "outputs": [
        {
          "output_type": "stream",
          "text": [
            "\r0% [Working]\r            \rHit:1 http://security.ubuntu.com/ubuntu bionic-security InRelease\n",
            "\r0% [Connecting to archive.ubuntu.com (91.189.88.152)] [Waiting for headers] [Co\r                                                                               \rHit:2 https://cloud.r-project.org/bin/linux/ubuntu bionic-cran40/ InRelease\n",
            "\r0% [Connecting to archive.ubuntu.com (91.189.88.152)] [Connecting to ppa.launch\r0% [1 InRelease gpgv 88.7 kB] [Connecting to archive.ubuntu.com (91.189.88.152)\r                                                                               \rIgn:3 https://developer.download.nvidia.com/compute/cuda/repos/ubuntu1804/x86_64  InRelease\n",
            "\r0% [1 InRelease gpgv 88.7 kB] [Waiting for headers] [Waiting for headers] [Wait\r                                                                               \rHit:4 http://ppa.launchpad.net/c2d4u.team/c2d4u4.0+/ubuntu bionic InRelease\n",
            "Hit:5 http://archive.ubuntu.com/ubuntu bionic InRelease\n",
            "Ign:6 https://developer.download.nvidia.com/compute/machine-learning/repos/ubuntu1804/x86_64  InRelease\n",
            "Hit:7 https://developer.download.nvidia.com/compute/cuda/repos/ubuntu1804/x86_64  Release\n",
            "Hit:8 https://developer.download.nvidia.com/compute/machine-learning/repos/ubuntu1804/x86_64  Release\n",
            "Hit:9 http://archive.ubuntu.com/ubuntu bionic-updates InRelease\n",
            "Hit:10 http://ppa.launchpad.net/cran/libgit2/ubuntu bionic InRelease\n",
            "Hit:11 http://archive.ubuntu.com/ubuntu bionic-backports InRelease\n",
            "Hit:12 http://ppa.launchpad.net/deadsnakes/ppa/ubuntu bionic InRelease\n",
            "Hit:13 http://ppa.launchpad.net/graphics-drivers/ppa/ubuntu bionic InRelease\n",
            "Reading package lists... Done\n"
          ],
          "name": "stdout"
        }
      ]
    },
    {
      "cell_type": "code",
      "metadata": {
        "id": "_xKwTpATHqSe",
        "colab": {
          "base_uri": "https://localhost:8080/"
        },
        "outputId": "9e742135-129c-49a7-d1de-9b76b16225e7"
      },
      "source": [
        "# Download the Postgres driver that will allow Spark to interact with Postgres.\n",
        "!wget https://jdbc.postgresql.org/download/postgresql-42.2.16.jar"
      ],
      "execution_count": 2,
      "outputs": [
        {
          "output_type": "stream",
          "text": [
            "--2021-07-15 06:23:54--  https://jdbc.postgresql.org/download/postgresql-42.2.16.jar\n",
            "Resolving jdbc.postgresql.org (jdbc.postgresql.org)... 72.32.157.228, 2001:4800:3e1:1::228\n",
            "Connecting to jdbc.postgresql.org (jdbc.postgresql.org)|72.32.157.228|:443... connected.\n",
            "HTTP request sent, awaiting response... 200 OK\n",
            "Length: 1002883 (979K) [application/java-archive]\n",
            "Saving to: ‘postgresql-42.2.16.jar.2’\n",
            "\n",
            "postgresql-42.2.16. 100%[===================>] 979.38K  5.74MB/s    in 0.2s    \n",
            "\n",
            "2021-07-15 06:23:54 (5.74 MB/s) - ‘postgresql-42.2.16.jar.2’ saved [1002883/1002883]\n",
            "\n"
          ],
          "name": "stdout"
        }
      ]
    },
    {
      "cell_type": "code",
      "metadata": {
        "id": "MMqDAjVS0KN9"
      },
      "source": [
        "# Start Spark session\n",
        "from pyspark.sql import SparkSession\n",
        "spark = SparkSession.builder.appName(\"BigData-Challenge\").config(\"spark.driver.extraClassPath\",\"/content/postgresql-42.2.16.jar\").getOrCreate()"
      ],
      "execution_count": 3,
      "outputs": []
    },
    {
      "cell_type": "markdown",
      "metadata": {
        "id": "cyBsySGuY-9V"
      },
      "source": [
        "### Load Amazon Data into Spark DataFrame"
      ]
    },
    {
      "cell_type": "code",
      "metadata": {
        "id": "CtCmBhQJY-9Z",
        "colab": {
          "base_uri": "https://localhost:8080/"
        },
        "outputId": "1ae80489-77b5-4f26-985c-4afb8168d3f4"
      },
      "source": [
        "# Read in data from S3 Buckets\n",
        "from pyspark import SparkFiles\n",
        "url = \"https://s3.amazonaws.com/amazon-reviews-pds/tsv/amazon_reviews_us_Books_v1_02.tsv.gz\"\n",
        "spark.sparkContext.addFile(url)\n",
        "df = spark.read.option(\"encoding\", \"UTF-8\").csv(SparkFiles.get(\"\"), sep=\"\\t\", header=True, inferSchema=True)\n",
        "df.show()"
      ],
      "execution_count": 4,
      "outputs": [
        {
          "output_type": "stream",
          "text": [
            "+-----------+-----------+--------------+----------+--------------+--------------------+----------------+-----------+-------------+-----------+----+-----------------+--------------------+--------------------+-----------+\n",
            "|marketplace|customer_id|     review_id|product_id|product_parent|       product_title|product_category|star_rating|helpful_votes|total_votes|vine|verified_purchase|     review_headline|         review_body|review_date|\n",
            "+-----------+-----------+--------------+----------+--------------+--------------------+----------------+-----------+-------------+-----------+----+-----------------+--------------------+--------------------+-----------+\n",
            "|         US|   12076615| RQ58W7SMO911M|0385730586|     122662979|Sisterhood of the...|           Books|          4|            2|          3|   N|                N|this book was a g...|this boook was a ...| 2005-10-14|\n",
            "|         US|   12703090|  RF6IUKMGL8SF|0811828964|      56191234|The Bad Girl's Gu...|           Books|          3|            5|          5|   N|                N|           Fun Fluff|If you are lookin...| 2005-10-14|\n",
            "|         US|   12257412|R1DOSHH6AI622S|1844161560|     253182049|Eisenhorn (A Warh...|           Books|          4|            1|         22|   N|                N| this isn't a review|never read it-a y...| 2005-10-14|\n",
            "|         US|   50732546| RATOTLA3OF70O|0373836635|     348672532|Colby Conspiracy ...|           Books|          5|            2|          2|   N|                N|fine author on he...|Though she is hon...| 2005-10-14|\n",
            "|         US|   51964897|R1TNWRKIVHVYOV|0262181533|     598678717|The Psychology of...|           Books|          4|            0|          2|   N|                N|Execellent cursor...|Review based on a...| 2005-10-14|\n",
            "|         US|   31048862|R2F53LI9KK9MOY|0316769487|     862964341|The Catcher in th...|           Books|          4|            2|          2|   N|                N|   Interesting, fun.|My only complaint...| 2005-10-14|\n",
            "|         US|   53000124|R1KJ6MB7MRSQFF|0805076069|     145341889|Bait and Switch: ...|           Books|          4|            9|         11|   N|                N|I viewed this the...|This book is chil...| 2005-10-14|\n",
            "|         US|   29732693|R2XIM9LT335WHE|1581603681|     640542054|Opening Combinati...|           Books|          4|            3|         10|   N|                N|No Frills - Just ...|When looking for ...| 2005-10-14|\n",
            "|         US|   48541186|R1VE0FQQ0QTQJN|0300108834|     915891133|A Little History ...|           Books|          5|           16|         20|   N|                Y|Simple, entertain...|Never been much f...| 2005-10-14|\n",
            "|         US|   15280864|R1VKEE2NWSWDRU|0446531081|     880645124|Hour Game (King &...|           Books|          4|            0|          0|   N|                N|        A good read!|If you enjoy a we...| 2005-10-14|\n",
            "|         US|   24209213|R2UP6XSVYJBJ2H|0976822105|     731931430|     Faith is a Verb|           Books|          5|            0|          0|   N|                N|Made me Question ...|I thoroughly enjo...| 2005-10-14|\n",
            "|         US|   52253037|R21SYDQ70ILUC0|1580085695|     586052746|Furry Logic: A Gu...|           Books|          5|            1|          1|   N|                Y|    The Perfect Gift|If you are stumpe...| 2005-10-14|\n",
            "|         US|   27925116| R7M06Z88PD7SX|0029148510|      72387289|Acts of War: Beha...|           Books|          4|           14|         14|   N|                N|Solid Book About ...|Whether intention...| 2005-10-14|\n",
            "|         US|   15005044| RRS38KZ4WB5O2|1592285570|     702385650|Temple to the Win...|           Books|          5|            1|          1|   N|                N|A riveting accoun...|Temple to the win...| 2005-10-14|\n",
            "|         US|   52534781|R2YDYRSLGNHPHR|0811848833|     102333549|The Star Wars Pos...|           Books|          4|           16|         19|   N|                Y|Comprehensive vis...|At last... a comp...| 2005-10-14|\n",
            "|         US|   26217071|R1BMPM18O6VZOR|0782144276|     971452783|Photoshop for Nat...|           Books|          4|           13|         14|   N|                N|          Great Book|I find \\\\\"Photosh...| 2005-10-14|\n",
            "|         US|   37684582|R1AABFZH0J0C0C|0375757996|     760991156|The Basic Works o...|           Books|          3|           17|         35|   N|                N|Problems with thi...|I love Aristotle ...| 2005-10-14|\n",
            "|         US|   45232107|R3SJYLG07EHNE9|013146308X|     332774292|The Pterosaurs: F...|           Books|          2|           16|         34|   N|                N|Warmed over lefto...|To his discredit,...| 2005-10-14|\n",
            "|         US|   15437121|R2TIO43ND87XVO|0375701907|     635714194|Straight Man: A N...|           Books|          5|            1|          1|   N|                N|       Funniest Book|Hands down, the f...| 2005-10-14|\n",
            "|         US|   52157117|R18TY4WD19OUAO|141378240X|     656010659|   Lipstick's Legacy|           Books|          5|            1|          1|   N|                N|          Great Work|I read this book ...| 2005-10-14|\n",
            "+-----------+-----------+--------------+----------+--------------+--------------------+----------------+-----------+-------------+-----------+----+-----------------+--------------------+--------------------+-----------+\n",
            "only showing top 20 rows\n",
            "\n"
          ],
          "name": "stdout"
        }
      ]
    },
    {
      "cell_type": "markdown",
      "metadata": {
        "id": "2yUSe55VY-9t"
      },
      "source": [
        "### Create DataFrames to match tables"
      ]
    },
    {
      "cell_type": "code",
      "metadata": {
        "id": "C8REmY1aY-9u"
      },
      "source": [
        "from pyspark.sql.functions import to_date\n",
        "# Read in the Review dataset as a DataFrame\n",
        "df = spark.read.csv(SparkFiles.get(\"amazon_reviews_us_Books_v1_02.tsv.gz\"), sep=\"\\t\", header=True, inferSchema=True)\n"
      ],
      "execution_count": 5,
      "outputs": []
    },
    {
      "cell_type": "code",
      "metadata": {
        "colab": {
          "base_uri": "https://localhost:8080/"
        },
        "id": "gS6AZGaiw4BK",
        "outputId": "49b0d2f0-4c20-4196-8de0-d05207c909c8"
      },
      "source": [
        "df.show()"
      ],
      "execution_count": 6,
      "outputs": [
        {
          "output_type": "stream",
          "text": [
            "+-----------+-----------+--------------+----------+--------------+--------------------+----------------+-----------+-------------+-----------+----+-----------------+--------------------+--------------------+-----------+\n",
            "|marketplace|customer_id|     review_id|product_id|product_parent|       product_title|product_category|star_rating|helpful_votes|total_votes|vine|verified_purchase|     review_headline|         review_body|review_date|\n",
            "+-----------+-----------+--------------+----------+--------------+--------------------+----------------+-----------+-------------+-----------+----+-----------------+--------------------+--------------------+-----------+\n",
            "|         US|   12076615| RQ58W7SMO911M|0385730586|     122662979|Sisterhood of the...|           Books|          4|            2|          3|   N|                N|this book was a g...|this boook was a ...| 2005-10-14|\n",
            "|         US|   12703090|  RF6IUKMGL8SF|0811828964|      56191234|The Bad Girl's Gu...|           Books|          3|            5|          5|   N|                N|           Fun Fluff|If you are lookin...| 2005-10-14|\n",
            "|         US|   12257412|R1DOSHH6AI622S|1844161560|     253182049|Eisenhorn (A Warh...|           Books|          4|            1|         22|   N|                N| this isn't a review|never read it-a y...| 2005-10-14|\n",
            "|         US|   50732546| RATOTLA3OF70O|0373836635|     348672532|Colby Conspiracy ...|           Books|          5|            2|          2|   N|                N|fine author on he...|Though she is hon...| 2005-10-14|\n",
            "|         US|   51964897|R1TNWRKIVHVYOV|0262181533|     598678717|The Psychology of...|           Books|          4|            0|          2|   N|                N|Execellent cursor...|Review based on a...| 2005-10-14|\n",
            "|         US|   31048862|R2F53LI9KK9MOY|0316769487|     862964341|The Catcher in th...|           Books|          4|            2|          2|   N|                N|   Interesting, fun.|My only complaint...| 2005-10-14|\n",
            "|         US|   53000124|R1KJ6MB7MRSQFF|0805076069|     145341889|Bait and Switch: ...|           Books|          4|            9|         11|   N|                N|I viewed this the...|This book is chil...| 2005-10-14|\n",
            "|         US|   29732693|R2XIM9LT335WHE|1581603681|     640542054|Opening Combinati...|           Books|          4|            3|         10|   N|                N|No Frills - Just ...|When looking for ...| 2005-10-14|\n",
            "|         US|   48541186|R1VE0FQQ0QTQJN|0300108834|     915891133|A Little History ...|           Books|          5|           16|         20|   N|                Y|Simple, entertain...|Never been much f...| 2005-10-14|\n",
            "|         US|   15280864|R1VKEE2NWSWDRU|0446531081|     880645124|Hour Game (King &...|           Books|          4|            0|          0|   N|                N|        A good read!|If you enjoy a we...| 2005-10-14|\n",
            "|         US|   24209213|R2UP6XSVYJBJ2H|0976822105|     731931430|     Faith is a Verb|           Books|          5|            0|          0|   N|                N|Made me Question ...|I thoroughly enjo...| 2005-10-14|\n",
            "|         US|   52253037|R21SYDQ70ILUC0|1580085695|     586052746|Furry Logic: A Gu...|           Books|          5|            1|          1|   N|                Y|    The Perfect Gift|If you are stumpe...| 2005-10-14|\n",
            "|         US|   27925116| R7M06Z88PD7SX|0029148510|      72387289|Acts of War: Beha...|           Books|          4|           14|         14|   N|                N|Solid Book About ...|Whether intention...| 2005-10-14|\n",
            "|         US|   15005044| RRS38KZ4WB5O2|1592285570|     702385650|Temple to the Win...|           Books|          5|            1|          1|   N|                N|A riveting accoun...|Temple to the win...| 2005-10-14|\n",
            "|         US|   52534781|R2YDYRSLGNHPHR|0811848833|     102333549|The Star Wars Pos...|           Books|          4|           16|         19|   N|                Y|Comprehensive vis...|At last... a comp...| 2005-10-14|\n",
            "|         US|   26217071|R1BMPM18O6VZOR|0782144276|     971452783|Photoshop for Nat...|           Books|          4|           13|         14|   N|                N|          Great Book|I find \\\\\"Photosh...| 2005-10-14|\n",
            "|         US|   37684582|R1AABFZH0J0C0C|0375757996|     760991156|The Basic Works o...|           Books|          3|           17|         35|   N|                N|Problems with thi...|I love Aristotle ...| 2005-10-14|\n",
            "|         US|   45232107|R3SJYLG07EHNE9|013146308X|     332774292|The Pterosaurs: F...|           Books|          2|           16|         34|   N|                N|Warmed over lefto...|To his discredit,...| 2005-10-14|\n",
            "|         US|   15437121|R2TIO43ND87XVO|0375701907|     635714194|Straight Man: A N...|           Books|          5|            1|          1|   N|                N|       Funniest Book|Hands down, the f...| 2005-10-14|\n",
            "|         US|   52157117|R18TY4WD19OUAO|141378240X|     656010659|   Lipstick's Legacy|           Books|          5|            1|          1|   N|                N|          Great Work|I read this book ...| 2005-10-14|\n",
            "+-----------+-----------+--------------+----------+--------------+--------------------+----------------+-----------+-------------+-----------+----+-----------------+--------------------+--------------------+-----------+\n",
            "only showing top 20 rows\n",
            "\n"
          ],
          "name": "stdout"
        }
      ]
    },
    {
      "cell_type": "code",
      "metadata": {
        "id": "B0TESUDRY-90",
        "colab": {
          "base_uri": "https://localhost:8080/"
        },
        "outputId": "d4453cdd-5970-47bb-ce58-66c86727c18c"
      },
      "source": [
        "# Create the customers_table DataFrame\n",
        "customers_df = df.groupby(\"customer_id\").agg({\"customer_id\":\"count\"}).withColumnRenamed(\"count(customer_id)\", \"customer_count\")\n",
        "customers_df.show(5)"
      ],
      "execution_count": 7,
      "outputs": [
        {
          "output_type": "stream",
          "text": [
            "+-----------+--------------+\n",
            "|customer_id|customer_count|\n",
            "+-----------+--------------+\n",
            "|   28735044|             9|\n",
            "|   15607794|             1|\n",
            "|   15596972|             1|\n",
            "|   32371281|             2|\n",
            "|   12084021|             1|\n",
            "+-----------+--------------+\n",
            "only showing top 5 rows\n",
            "\n"
          ],
          "name": "stdout"
        }
      ]
    },
    {
      "cell_type": "code",
      "metadata": {
        "id": "4FwXA6UvY-96",
        "colab": {
          "base_uri": "https://localhost:8080/"
        },
        "outputId": "13c3bb5c-c8d9-4aec-bd89-5b510a7ecced"
      },
      "source": [
        "# Create the products_table DataFrame and drop duplicates. \n",
        "products_df = df.select([\"product_id\", \"product_title\"]).drop_duplicates()\n",
        "products_df.show(5)"
      ],
      "execution_count": 8,
      "outputs": [
        {
          "output_type": "stream",
          "text": [
            "+----------+--------------------+\n",
            "|product_id|       product_title|\n",
            "+----------+--------------------+\n",
            "|0029148510|Acts of War: Beha...|\n",
            "|1844494896|Waiting For Kate ...|\n",
            "|0451216954|Dark Lover (Black...|\n",
            "|006056718X|Often Wrong, Neve...|\n",
            "|0965852768|101 Spooktacular ...|\n",
            "+----------+--------------------+\n",
            "only showing top 5 rows\n",
            "\n"
          ],
          "name": "stdout"
        }
      ]
    },
    {
      "cell_type": "code",
      "metadata": {
        "id": "MkqyCuNQY-9-",
        "colab": {
          "base_uri": "https://localhost:8080/"
        },
        "outputId": "de76e2b9-7d84-446c-ef69-83f7287404c7"
      },
      "source": [
        "# Create the review_id_table DataFrame. \n",
        "# Convert the 'review_date' column to a date datatype with to_date(\"review_date\", 'yyyy-MM-dd').alias(\"review_date\")\n",
        "review_id_df = df.select([\"review_id\", \"customer_id\", \"product_id\", \"product_parent\", to_date(\"review_date\", 'yyyy-MM-dd').alias(\"review_date\")])\n",
        "review_id_df.show(5)"
      ],
      "execution_count": 9,
      "outputs": [
        {
          "output_type": "stream",
          "text": [
            "+--------------+-----------+----------+--------------+-----------+\n",
            "|     review_id|customer_id|product_id|product_parent|review_date|\n",
            "+--------------+-----------+----------+--------------+-----------+\n",
            "| RQ58W7SMO911M|   12076615|0385730586|     122662979| 2005-10-14|\n",
            "|  RF6IUKMGL8SF|   12703090|0811828964|      56191234| 2005-10-14|\n",
            "|R1DOSHH6AI622S|   12257412|1844161560|     253182049| 2005-10-14|\n",
            "| RATOTLA3OF70O|   50732546|0373836635|     348672532| 2005-10-14|\n",
            "|R1TNWRKIVHVYOV|   51964897|0262181533|     598678717| 2005-10-14|\n",
            "+--------------+-----------+----------+--------------+-----------+\n",
            "only showing top 5 rows\n",
            "\n"
          ],
          "name": "stdout"
        }
      ]
    },
    {
      "cell_type": "code",
      "metadata": {
        "id": "lzMmkdKmY--D",
        "colab": {
          "base_uri": "https://localhost:8080/"
        },
        "outputId": "dbecccb2-cba4-4521-db7e-e8365e23a2eb"
      },
      "source": [
        "# Create the vine_table. DataFrame\n",
        "vine_df = df.select([\"review_id\", \"star_rating\", \"helpful_votes\", \"total_votes\", \"vine\", \"verified_purchase\"])\n",
        "vine_df.show(5)"
      ],
      "execution_count": 10,
      "outputs": [
        {
          "output_type": "stream",
          "text": [
            "+--------------+-----------+-------------+-----------+----+-----------------+\n",
            "|     review_id|star_rating|helpful_votes|total_votes|vine|verified_purchase|\n",
            "+--------------+-----------+-------------+-----------+----+-----------------+\n",
            "| RQ58W7SMO911M|          4|            2|          3|   N|                N|\n",
            "|  RF6IUKMGL8SF|          3|            5|          5|   N|                N|\n",
            "|R1DOSHH6AI622S|          4|            1|         22|   N|                N|\n",
            "| RATOTLA3OF70O|          5|            2|          2|   N|                N|\n",
            "|R1TNWRKIVHVYOV|          4|            0|          2|   N|                N|\n",
            "+--------------+-----------+-------------+-----------+----+-----------------+\n",
            "only showing top 5 rows\n",
            "\n"
          ],
          "name": "stdout"
        }
      ]
    },
    {
      "cell_type": "markdown",
      "metadata": {
        "id": "jITZhLkmY--J"
      },
      "source": [
        "### Connect to the AWS RDS instance and write each DataFrame to its table. "
      ]
    },
    {
      "cell_type": "code",
      "metadata": {
        "id": "7jiUvs1aY--L"
      },
      "source": [
        "# Configure settings for RDS\n",
        "mode = \"append\"\n",
        "jdbc_url=\"jdbc:postgresql://italiabooks-database.cyhgfdvvtdpl.us-east-2.rds.amazonaws.com:5432/postgres\"\n",
        "config = {\"user\":\"postgres\", \n",
        "          \"password\": \"Badtre1993!\", \n",
        "          \"driver\":\"org.postgresql.Driver\"}"
      ],
      "execution_count": 12,
      "outputs": []
    },
    {
      "cell_type": "code",
      "metadata": {
        "id": "T2zgZ-aKY--Q"
      },
      "source": [
        "# Write review_id_df to table in RDS\n",
        "review_id_df.write.jdbc(url=jdbc_url, table='review_id_table', mode=mode, properties=config)"
      ],
      "execution_count": 13,
      "outputs": []
    },
    {
      "cell_type": "code",
      "metadata": {
        "id": "1m3yzn-LY--U"
      },
      "source": [
        "# Write products_df to table in RDS\n",
        "# about 3 min\n",
        "products_df.write.jdbc(url=jdbc_url, table='products_table', mode=mode, properties=config)"
      ],
      "execution_count": 14,
      "outputs": []
    },
    {
      "cell_type": "code",
      "metadata": {
        "id": "KbXri15fY--Z"
      },
      "source": [
        "# Write customers_df to table in RDS\n",
        "# 5 min 14 s\n",
        "customers_df.write.jdbc(url=jdbc_url, table='customers_table', mode=mode, properties=config)"
      ],
      "execution_count": 15,
      "outputs": []
    },
    {
      "cell_type": "code",
      "metadata": {
        "id": "XdQknSHLY--e"
      },
      "source": [
        "# Write vine_df to table in RDS\n",
        "# 11 minutes\n",
        "vine_df.write.jdbc(url=jdbc_url, table='vine_table', mode=mode, properties=config)"
      ],
      "execution_count": 16,
      "outputs": []
    },
    {
      "cell_type": "code",
      "metadata": {
        "id": "Exuo6ebUsCqW"
      },
      "source": [
        ""
      ],
      "execution_count": null,
      "outputs": []
    }
  ]
}